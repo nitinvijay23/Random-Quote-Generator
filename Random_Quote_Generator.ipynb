{
 "cells": [
  {
   "cell_type": "markdown",
   "metadata": {},
   "source": [
    "# Random Quote Generator\n",
    "\n",
    "Just Enter any Cateogry and get any random quote of that category\n",
    "\n",
    "Category can be: movies or famous\n",
    "\n",
    "Note: Only two categories are allowed."
   ]
  },
  {
   "cell_type": "code",
   "execution_count": 6,
   "metadata": {
    "collapsed": false
   },
   "outputs": [
    {
     "name": "stdout",
     "output_type": "stream",
     "text": [
      "Enter the category movies or famous\n",
      "famous\n",
      "Quote We didn't lose the game; we just ran out of time.\n",
      "Author Vince Lombardi\n"
     ]
    }
   ],
   "source": [
    " #These code snippets use an open-source library. http://unirest.io/python\n",
    "import requests\n",
    "url = \"https://andruxnet-random-famous-quotes.p.mashape.com/\"\n",
    "print(\"Enter the category movies or famous\")\n",
    "cat = input()\n",
    "data = {'cat': cat}\n",
    "headers={\n",
    "    \"X-Mashape-Key\": \"your API Key\",\n",
    "    \"Content-Type\": \"application/x-www-form-urlencoded\",\n",
    "    \"Accept\": \"application/json\"\n",
    "  }\n",
    "r = requests.post(url, data=data, headers = headers)\n",
    "results = r.json()\n",
    "print(\"Quote: {}\".format(results[\"quote\"]))\n",
    "print(\"Author: {}\".format(results[\"author\"]))"
   ]
  },
  {
   "cell_type": "code",
   "execution_count": 5,
   "metadata": {
    "collapsed": false
   },
   "outputs": [
    {
     "name": "stderr",
     "output_type": "stream",
     "text": [
      "[NbConvertApp] Converting notebook Random_Quote_Generator.ipynb to script\n",
      "[NbConvertApp] Writing 875 bytes to Random_Quote_Generator.py\n"
     ]
    }
   ],
   "source": [
    "!jupyter nbconvert --to script Random_Quote_Generator.ipynb"
   ]
  },
  {
   "cell_type": "code",
   "execution_count": null,
   "metadata": {
    "collapsed": true
   },
   "outputs": [],
   "source": []
  }
 ],
 "metadata": {
  "kernelspec": {
   "display_name": "Python [Root]",
   "language": "python",
   "name": "Python [Root]"
  },
  "language_info": {
   "codemirror_mode": {
    "name": "ipython",
    "version": 3
   },
   "file_extension": ".py",
   "mimetype": "text/x-python",
   "name": "python",
   "nbconvert_exporter": "python",
   "pygments_lexer": "ipython3",
   "version": "3.5.2"
  }
 },
 "nbformat": 4,
 "nbformat_minor": 0
}
